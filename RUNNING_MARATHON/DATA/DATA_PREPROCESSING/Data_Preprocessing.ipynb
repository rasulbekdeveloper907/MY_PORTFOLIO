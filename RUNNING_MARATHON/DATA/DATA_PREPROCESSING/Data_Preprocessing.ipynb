{
 "cells": [
  {
   "cell_type": "markdown",
   "id": "ee3ba2a4",
   "metadata": {},
   "source": [
    "# 📌 Running – Regression Project  \n",
    "\n",
    "## 📖 Project Goal  \n",
    "\n",
    "The primary objective of this project is to develop a **Machine Learning Regression Model** that can predict **how many kilometers a person would be able to run if they participated in a marathon**.  \n",
    "\n",
    "This project utilizes the **Running dataset** from Kaggle, which contains detailed records of marathon and ultramarathon races held between **2020 and 2025**.  \n",
    "\n",
    "The dataset provides a rich set of features, including:  \n",
    "- 🧑 Demographic information  \n",
    "- 🏃 Event details  \n",
    "- ⏱️ Performance-related attributes  \n",
    "\n",
    "These features make the dataset an excellent foundation for building predictive models and gaining insights into running performance.  \n"
   ]
  },
  {
   "cell_type": "code",
   "execution_count": 1,
   "id": "302095a2",
   "metadata": {},
   "outputs": [],
   "source": [
    "# Data Collection\n",
    "import pandas as pd\n",
    "import numpy as np\n",
    "\n",
    "#Vizualization\n",
    "import matplotlib.pyplot as plt\n",
    "import seaborn as sns\n",
    "\n",
    "# Data Preprocessing\n",
    "from sklearn.preprocessing import StandardScaler, PolynomialFeatures\n",
    "\n",
    "\n",
    "# Data partitioning and model tuning\n",
    "from sklearn.model_selection import train_test_split, GridSearchCV, RandomizedSearchCV, cross_val_score, KFold\n",
    "\n",
    "# Calling regression models\n",
    "from sklearn.linear_model import LinearRegression\n",
    "from sklearn.tree import DecisionTreeRegressor\n",
    "from sklearn.ensemble import RandomForestRegressor\n",
    "from sklearn.svm import SVR\n",
    "\n",
    "# Model Evaluation\n",
    "from sklearn.model_selection import cross_val_score, KFold\n",
    "from sklearn.metrics import mean_absolute_error, mean_squared_error, r2_score\n",
    "\n",
    "#  Determining the explanatory power of a model (SHAP) \n",
    "import shap  \n",
    "\n",
    "\n"
   ]
  },
  {
   "cell_type": "code",
   "execution_count": 3,
   "id": "e91d0851",
   "metadata": {},
   "outputs": [
    {
     "name": "stderr",
     "output_type": "stream",
     "text": [
      "C:\\Users\\Rasulbek_Ruzmetov\\AppData\\Local\\Temp\\ipykernel_12764\\473542341.py:1: DtypeWarning: Columns (11) have mixed types. Specify dtype option on import or set low_memory=False.\n",
      "  df = pd.read_csv(\"TWO_CENTURIES_OF_UM_RACES.txt\")\n"
     ]
    }
   ],
   "source": [
    "df = pd.read_csv(\"TWO_CENTURIES_OF_UM_RACES.txt\")"
   ]
  },
  {
   "cell_type": "code",
   "execution_count": 4,
   "id": "6a25b43e",
   "metadata": {},
   "outputs": [
    {
     "data": {
      "text/html": [
       "<div>\n",
       "<style scoped>\n",
       "    .dataframe tbody tr th:only-of-type {\n",
       "        vertical-align: middle;\n",
       "    }\n",
       "\n",
       "    .dataframe tbody tr th {\n",
       "        vertical-align: top;\n",
       "    }\n",
       "\n",
       "    .dataframe thead th {\n",
       "        text-align: right;\n",
       "    }\n",
       "</style>\n",
       "<table border=\"1\" class=\"dataframe\">\n",
       "  <thead>\n",
       "    <tr style=\"text-align: right;\">\n",
       "      <th></th>\n",
       "      <th>Year of event</th>\n",
       "      <th>Event dates</th>\n",
       "      <th>Event name</th>\n",
       "      <th>Event distance/length</th>\n",
       "      <th>Event number of finishers</th>\n",
       "      <th>Athlete performance</th>\n",
       "      <th>Athlete club</th>\n",
       "      <th>Athlete country</th>\n",
       "      <th>Athlete year of birth</th>\n",
       "      <th>Athlete gender</th>\n",
       "      <th>Athlete age category</th>\n",
       "      <th>Athlete average speed</th>\n",
       "      <th>Athlete ID</th>\n",
       "    </tr>\n",
       "  </thead>\n",
       "  <tbody>\n",
       "    <tr>\n",
       "      <th>0</th>\n",
       "      <td>2018</td>\n",
       "      <td>06.01.2018</td>\n",
       "      <td>Selva Costera (CHI)</td>\n",
       "      <td>50km</td>\n",
       "      <td>22</td>\n",
       "      <td>4:51:39 h</td>\n",
       "      <td>Tnfrc</td>\n",
       "      <td>CHI</td>\n",
       "      <td>1978.0</td>\n",
       "      <td>M</td>\n",
       "      <td>M35</td>\n",
       "      <td>10.286</td>\n",
       "      <td>0</td>\n",
       "    </tr>\n",
       "    <tr>\n",
       "      <th>1</th>\n",
       "      <td>2018</td>\n",
       "      <td>06.01.2018</td>\n",
       "      <td>Selva Costera (CHI)</td>\n",
       "      <td>50km</td>\n",
       "      <td>22</td>\n",
       "      <td>5:15:45 h</td>\n",
       "      <td>Roberto Echeverría</td>\n",
       "      <td>CHI</td>\n",
       "      <td>1981.0</td>\n",
       "      <td>M</td>\n",
       "      <td>M35</td>\n",
       "      <td>9.501</td>\n",
       "      <td>1</td>\n",
       "    </tr>\n",
       "    <tr>\n",
       "      <th>2</th>\n",
       "      <td>2018</td>\n",
       "      <td>06.01.2018</td>\n",
       "      <td>Selva Costera (CHI)</td>\n",
       "      <td>50km</td>\n",
       "      <td>22</td>\n",
       "      <td>5:16:44 h</td>\n",
       "      <td>Puro Trail Osorno</td>\n",
       "      <td>CHI</td>\n",
       "      <td>1987.0</td>\n",
       "      <td>M</td>\n",
       "      <td>M23</td>\n",
       "      <td>9.472</td>\n",
       "      <td>2</td>\n",
       "    </tr>\n",
       "    <tr>\n",
       "      <th>3</th>\n",
       "      <td>2018</td>\n",
       "      <td>06.01.2018</td>\n",
       "      <td>Selva Costera (CHI)</td>\n",
       "      <td>50km</td>\n",
       "      <td>22</td>\n",
       "      <td>5:34:13 h</td>\n",
       "      <td>Columbia</td>\n",
       "      <td>ARG</td>\n",
       "      <td>1976.0</td>\n",
       "      <td>M</td>\n",
       "      <td>M40</td>\n",
       "      <td>8.976</td>\n",
       "      <td>3</td>\n",
       "    </tr>\n",
       "    <tr>\n",
       "      <th>4</th>\n",
       "      <td>2018</td>\n",
       "      <td>06.01.2018</td>\n",
       "      <td>Selva Costera (CHI)</td>\n",
       "      <td>50km</td>\n",
       "      <td>22</td>\n",
       "      <td>5:54:14 h</td>\n",
       "      <td>Baguales Trail</td>\n",
       "      <td>CHI</td>\n",
       "      <td>1992.0</td>\n",
       "      <td>M</td>\n",
       "      <td>M23</td>\n",
       "      <td>8.469</td>\n",
       "      <td>4</td>\n",
       "    </tr>\n",
       "  </tbody>\n",
       "</table>\n",
       "</div>"
      ],
      "text/plain": [
       "   Year of event Event dates           Event name Event distance/length  \\\n",
       "0           2018  06.01.2018  Selva Costera (CHI)                  50km   \n",
       "1           2018  06.01.2018  Selva Costera (CHI)                  50km   \n",
       "2           2018  06.01.2018  Selva Costera (CHI)                  50km   \n",
       "3           2018  06.01.2018  Selva Costera (CHI)                  50km   \n",
       "4           2018  06.01.2018  Selva Costera (CHI)                  50km   \n",
       "\n",
       "   Event number of finishers Athlete performance        Athlete club  \\\n",
       "0                         22           4:51:39 h               Tnfrc   \n",
       "1                         22           5:15:45 h  Roberto Echeverría   \n",
       "2                         22           5:16:44 h   Puro Trail Osorno   \n",
       "3                         22           5:34:13 h            Columbia   \n",
       "4                         22           5:54:14 h      Baguales Trail   \n",
       "\n",
       "  Athlete country  Athlete year of birth Athlete gender Athlete age category  \\\n",
       "0             CHI                 1978.0              M                  M35   \n",
       "1             CHI                 1981.0              M                  M35   \n",
       "2             CHI                 1987.0              M                  M23   \n",
       "3             ARG                 1976.0              M                  M40   \n",
       "4             CHI                 1992.0              M                  M23   \n",
       "\n",
       "  Athlete average speed  Athlete ID  \n",
       "0                10.286           0  \n",
       "1                 9.501           1  \n",
       "2                 9.472           2  \n",
       "3                 8.976           3  \n",
       "4                 8.469           4  "
      ]
     },
     "execution_count": 4,
     "metadata": {},
     "output_type": "execute_result"
    }
   ],
   "source": [
    "df.head()"
   ]
  },
  {
   "cell_type": "code",
   "execution_count": null,
   "id": "864964b5",
   "metadata": {},
   "outputs": [
    {
     "name": "stderr",
     "output_type": "stream",
     "text": [
      "C:\\Users\\Rasulbek_Ruzmetov\\AppData\\Local\\Temp\\ipykernel_788\\1544651479.py:4: DtypeWarning: Columns (11) have mixed types. Specify dtype option on import or set low_memory=False.\n",
      "  df = pd.read_csv(\"TWO_CENTURIES_OF_UM_RACES.txt\")\n"
     ]
    },
    {
     "name": "stdout",
     "output_type": "stream",
     "text": [
      "✅ Filtering done! Saved as Running_2020_2025.csv\n"
     ]
    }
   ],
   "source": [
    "import pandas as pd\n",
    "\n",
    "# Datasetni yuklash\n",
    "df = pd.read_csv(\"TWO_CENTURIES_OF_UM_RACES.txt\")\n",
    "\n",
    "# Dinamik yil oralig'i (boshlanish va tugash yillari)\n",
    "start_year = 2020\n",
    "end_year = 2025\n",
    "\n",
    "# Faqat start_year va end_year oralig'idagi eventlarni olish\n",
    "df_filtered = df[(df[\"Year of event\"] >= start_year) & (df[\"Year of event\"] <= end_year)]\n",
    "\n",
    "# Yangi CSV faylga saqlash\n",
    "output_file = f\"Running_{start_year}_{end_year}.csv\"\n",
    "df_filtered.to_csv(output_file, index=False)\n",
    "\n",
    "print(f\"Filtering done! Saved as {output_file}\")\n"
   ]
  },
  {
   "cell_type": "code",
   "execution_count": 2,
   "id": "85fec5ec",
   "metadata": {},
   "outputs": [],
   "source": [
    "df = pd.read_csv(\"Running_2020_2025.csv\")\n"
   ]
  },
  {
   "cell_type": "code",
   "execution_count": 13,
   "id": "5f5acb65",
   "metadata": {},
   "outputs": [
    {
     "name": "stdout",
     "output_type": "stream",
     "text": [
      "<class 'pandas.core.frame.DataFrame'>\n",
      "RangeIndex: 1071405 entries, 0 to 1071404\n",
      "Data columns (total 13 columns):\n",
      " #   Column                     Non-Null Count    Dtype  \n",
      "---  ------                     --------------    -----  \n",
      " 0   Year of event              1071405 non-null  int64  \n",
      " 1   Event dates                1071405 non-null  object \n",
      " 2   Event name                 1071405 non-null  object \n",
      " 3   Event distance/length      1071405 non-null  object \n",
      " 4   Event number of finishers  1071405 non-null  int64  \n",
      " 5   Athlete performance        1071405 non-null  object \n",
      " 6   Athlete club               612999 non-null   object \n",
      " 7   Athlete country            1071404 non-null  object \n",
      " 8   Athlete year of birth      993536 non-null   float64\n",
      " 9   Athlete gender             1071404 non-null  object \n",
      " 10  Athlete age category       993810 non-null   object \n",
      " 11  Athlete average speed      1071374 non-null  object \n",
      " 12  Athlete ID                 1071405 non-null  int64  \n",
      "dtypes: float64(1), int64(3), object(9)\n",
      "memory usage: 106.3+ MB\n"
     ]
    }
   ],
   "source": [
    "df.info()"
   ]
  },
  {
   "cell_type": "markdown",
   "id": "8f372741",
   "metadata": {},
   "source": [
    "# 📊 Data Overview\n",
    "\n",
    "### 🧮 Dataset Size:\n",
    "- **1071405 entries**\n",
    "- **13 columns**\n",
    "\n",
    "### 🧹 Data Cleaning Status:\n",
    "- **Athlete club                 458406**\n",
    "- **Athlete country                   1**\n",
    "- **Athlete year of birth         77869**\n",
    "- **Athlete gender                    1**\n",
    "- **Athlete age category          77595**\n",
    "- **Athlete average speed            31**\n",
    "\n",
    "### 🔢 Column Types:\n",
    "- **Most columns are numeric (float64, int64, object)**"
   ]
  },
  {
   "cell_type": "markdown",
   "id": "be6e58f2",
   "metadata": {},
   "source": [
    "# 📊 Dataset Columns – Running_2020_2025\n",
    "\n",
    "| Column Name       | Description                                                                 |\n",
    "|-------------------|-----------------------------------------------------------------------------|\n",
    "| `Year of event`   | The year when the race took place (1798–2022).                             |\n",
    "| `Event`           | Name/type of the race (e.g., Marathon, Ultramarathon).                     |\n",
    "| `Distance_km`     | The official race distance in kilometers.                                   |\n",
    "| `Athlete`         | Name of the athlete who participated.                                       |\n",
    "| `Gender`          | Athlete’s gender (Male/Female).                                             |\n",
    "| `Age`             | Athlete’s age at the time of the event.                                     |\n",
    "| `Country`         | Country the athlete represented.                                            |\n",
    "| `Club`            | Athlete’s sports club or team affiliation.                                 |\n",
    "| `Rank`            | Finishing position of the athlete in the race.                             |\n",
    "| `Result_time`     | Recorded finish time (HH:MM:SS format).                                     |\n",
    "| `Speed_kmh`       | Average running speed in kilometers per hour.                              |\n",
    "| `Category`        | Age or event category (e.g., “M40” for Men aged 40–49).                    |\n",
    "| `Event_id`        | Unique identifier for the race event.                                       |\n",
    "| `Athlete_id`      | Unique identifier for the athlete.                                          |\n",
    "\n"
   ]
  },
  {
   "cell_type": "markdown",
   "id": "ec979278",
   "metadata": {},
   "source": [
    "# Data Preprocessing"
   ]
  },
  {
   "cell_type": "code",
   "execution_count": 10,
   "id": "7ca4deb4",
   "metadata": {},
   "outputs": [],
   "source": [
    "from sklearn.preprocessing import LabelEncoder\n",
    "from sklearn.preprocessing import StandardScaler\n",
    "class DataPreprocessing:\n",
    "    def __init__(self, df):\n",
    "        self.df = df.copy() \n",
    "        self.encoder = LabelEncoder()\n",
    "        self.scaler = StandardScaler()\n",
    "\n",
    "    def tozala(self):\n",
    "        for col in self.df.columns:\n",
    "            if self.df[col].isnull().any():\n",
    "                if self.df[col].dtype == 'object':\n",
    "                    self.df[col] = self.df[col].fillna(self.df[col].mode()[0])\n",
    "                else:\n",
    "                    self.df[col] = self.df[col].fillna(self.df[col].mean())\n",
    "        return self\n",
    "\n",
    "    def encodla(self):\n",
    "        for col in self.df.columns:\n",
    "            if self.df[col].dtype == 'object':\n",
    "                if self.df[col].nunique() <= 6:\n",
    "                    dummies = pd.get_dummies(self.df[col], prefix=col, dtype=int)\n",
    "                    self.df = pd.concat([self.df.drop(columns=[col]), dummies], axis=1)\n",
    "                else:\n",
    "                    self.df[col] = self.encoder.fit_transform(self.df[col])\n",
    "        return self\n",
    "\n",
    "    def scaling_qil(self):\n",
    "        numeric_cols = self.df.select_dtypes(include=['int64', 'float64']).columns\n",
    "        self.df[numeric_cols] = self.scaler.fit_transform(self.df[numeric_cols])\n",
    "        return self\n",
    "     \n",
    "\n",
    "    def get_df(self):\n",
    "        return self.df  \n",
    "    \n"
   ]
  },
  {
   "cell_type": "code",
   "execution_count": 11,
   "id": "0eb2497f",
   "metadata": {},
   "outputs": [],
   "source": [
    "\n",
    "preprocessor = DataPreprocessing(df)\n",
    "df_clean = (preprocessor\n",
    "            .tozala()\n",
    "            .encodla()\n",
    "            .scaling_qil()\n",
    "            .get_df())"
   ]
  },
  {
   "cell_type": "code",
   "execution_count": 21,
   "id": "02652194",
   "metadata": {},
   "outputs": [
    {
     "name": "stdout",
     "output_type": "stream",
     "text": [
      "<class 'pandas.core.frame.DataFrame'>\n",
      "RangeIndex: 1071405 entries, 0 to 1071404\n",
      "Data columns (total 15 columns):\n",
      " #   Column                     Non-Null Count    Dtype  \n",
      "---  ------                     --------------    -----  \n",
      " 0   Year of event              1071405 non-null  float64\n",
      " 1   Event dates                1071405 non-null  float64\n",
      " 2   Event name                 1071405 non-null  float64\n",
      " 3   Event distance/length      1071405 non-null  float64\n",
      " 4   Event number of finishers  1071405 non-null  float64\n",
      " 5   Athlete performance        1071405 non-null  float64\n",
      " 6   Athlete club               1071405 non-null  float64\n",
      " 7   Athlete country            1071405 non-null  float64\n",
      " 8   Athlete year of birth      1071405 non-null  float64\n",
      " 9   Athlete age category       1071405 non-null  float64\n",
      " 10  Athlete average speed      1071405 non-null  float64\n",
      " 11  Athlete ID                 1071405 non-null  float64\n",
      " 12  Athlete gender_F           1071405 non-null  float64\n",
      " 13  Athlete gender_M           1071405 non-null  float64\n",
      " 14  Athlete gender_X           1071405 non-null  float64\n",
      "dtypes: float64(15)\n",
      "memory usage: 122.6 MB\n"
     ]
    }
   ],
   "source": [
    "df.info()"
   ]
  },
  {
   "cell_type": "code",
   "execution_count": 22,
   "id": "c9c1b6c9",
   "metadata": {},
   "outputs": [
    {
     "data": {
      "text/plain": [
       "Index(['Year of event', 'Event dates', 'Event name', 'Event distance/length',\n",
       "       'Event number of finishers', 'Athlete performance', 'Athlete club',\n",
       "       'Athlete country', 'Athlete year of birth', 'Athlete age category',\n",
       "       'Athlete average speed', 'Athlete ID', 'Athlete gender_F',\n",
       "       'Athlete gender_M', 'Athlete gender_X'],\n",
       "      dtype='object')"
      ]
     },
     "execution_count": 22,
     "metadata": {},
     "output_type": "execute_result"
    }
   ],
   "source": [
    "numeric_cols = df.select_dtypes(include=['number']).columns\n",
    "numeric_cols"
   ]
  },
  {
   "cell_type": "code",
   "execution_count": 23,
   "id": "0366dbbf",
   "metadata": {},
   "outputs": [
    {
     "data": {
      "image/png": "[encoded data removed]",
      "text/plain": [
       "<Figure size 600x750 with 1 Axes>"
      ]
     },
     "metadata": {},
     "output_type": "display_data"
    }
   ],
   "source": [
    "numeric_cols = df.select_dtypes(include=['number']).columns\n",
    "\n",
    "\n",
    "corr_matrix = df[numeric_cols].corr()\n",
    "\n",
    "\n",
    "corr_target = corr_matrix['Event distance/length'].sort_values(ascending=False)\n",
    "\n",
    "\n",
    "corr_with_target = pd.DataFrame(corr_target)\n",
    "\n",
    "plt.figure(figsize=(6, len(corr_with_target)/2))  \n",
    "sns.heatmap(corr_with_target, annot=True, cmap='coolwarm', vmin=-1, vmax=1, cbar=False)\n",
    "plt.title('Correlation with Running')\n",
    "plt.yticks(rotation=0)\n",
    "plt.xticks([])  \n",
    "plt.show()\n"
   ]
  },
  {
   "cell_type": "code",
   "execution_count": 2,
   "id": "c43045dd",
   "metadata": {},
   "outputs": [
    {
     "name": "stdout",
     "output_type": "stream",
     "text": [
      "✅ Notebook saqlandi: C:\\Users\\Rasulbek_Ruzmetov\\Desktop\\RUNNING\\DATA\\Feature_Enginering\\Feature_Enginering.ipynb\n"
     ]
    }
   ],
   "source": [
    "import shutil\n",
    "\n",
    "# Joriy notebook nomi\n",
    "current_notebook = \"Data_Preprocessing.ipynb\"\n",
    "\n",
    "# Saqlash manzili\n",
    "save_path = r\"C:\\Users\\Rasulbek_Ruzmetov\\Desktop\\RUNNING\\DATA\\Feature_Enginering\\Feature_Enginering.ipynb\"\n",
    "\n",
    "# Faylni ko'chirish / nusxa olish\n",
    "shutil.copy(current_notebook, save_path)\n",
    "print(\"✅ Notebook saqlandi:\", save_path)\n"
   ]
  },
  {
   "cell_type": "code",
   "execution_count": null,
   "id": "94c75e6a",
   "metadata": {},
   "outputs": [],
   "source": []
  }
 ],
 "metadata": {
  "kernelspec": {
   "display_name": "Python 3",
   "language": "python",
   "name": "python3"
  },
  "language_info": {
   "codemirror_mode": {
    "name": "ipython",
    "version": 3
   },
   "file_extension": ".py",
   "mimetype": "text/x-python",
   "name": "python",
   "nbconvert_exporter": "python",
   "pygments_lexer": "ipython3",
   "version": "3.13.3"
  }
 },
 "nbformat": 4,
 "nbformat_minor": 5
}
